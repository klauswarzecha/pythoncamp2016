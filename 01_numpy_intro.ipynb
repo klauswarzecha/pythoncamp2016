{
 "metadata": {
  "name": "",
  "signature": "sha256:19f2e50e4482d90890de77bbab188366ffc2fc06ef915eb5737f7129a9fa640b"
 },
 "nbformat": 3,
 "nbformat_minor": 0,
 "worksheets": [
  {
   "cells": [
    {
     "cell_type": "markdown",
     "metadata": {},
     "source": [
      "Klaus-Dieter Warzecha\n",
      "#NumPy - \n",
      "##01. Einf\u00fchrung\n",
      "###pythoncamp 2016-04-03 - GFU - K\u00f6ln"
     ]
    },
    {
     "cell_type": "markdown",
     "metadata": {},
     "source": [
      "##NumPy\n",
      "**Num**erical **Py**thon  \n",
      "\n",
      "  - liefert als neuen Datentyp: *numpy.ndarray*\n",
      "      - homogenes Array\n",
      "      - n-dimensional\n",
      "      \n",
      "  - hat viele vorkompilierte mathematische Funktionen\n",
      "\n",
      "URL: [numpy.org](http://numpy.org)\n",
      "\n",
      "---\n",
      "\n",
      "##SciPy\n",
      "**Sci**entific **Py**thon  \n",
      "\n",
      "- basiert auf NumPy\n",
      "    - hat Funktionen zur Interpolation, Integration, Signalverarbeitunng, etc.\n",
      "\n",
      "URL: [sci.org](http://scipy.org)\n",
      "\n",
      "---\n",
      "\n",
      "##matplotlib\n",
      "\n",
      "  - 2D-Bibliothek zur Visualisierung von Daten\n",
      "\n",
      "URL: [matplotlib.org](http://matplotlib.org)\n",
      "\n",
      "---\n",
      "\n",
      "##pandas\n",
      "  - Bibliothek zur Verarbeitung tabellarischer Daten\n",
      "  - wie Tabellenkalkulation, nur besser ;-)\n",
      "  \n",
      "URL: [pandas.pydata.org](pandas.pydata.org)\n"
     ]
    },
    {
     "cell_type": "markdown",
     "metadata": {},
     "source": [
      "#Warum NumPy?"
     ]
    },
    {
     "cell_type": "markdown",
     "metadata": {},
     "source": [
      "Wir haben doch schon  \n",
      "  - list\n",
      "  - dict \n",
      "  - set \n",
      "  \n",
      "und aus **collections**\n",
      "  - OrderedDict\n",
      "  - defaultDict\n",
      "  - Counter"
     ]
    },
    {
     "cell_type": "markdown",
     "metadata": {},
     "source": [
      "#Was kann NumPy?"
     ]
    },
    {
     "cell_type": "markdown",
     "metadata": {},
     "source": [
      "Zur Erinnerung: Listen lassen sich nicht **einfach** elementweise adieren"
     ]
    },
    {
     "cell_type": "code",
     "collapsed": false,
     "input": [
      "a_list = [10, 20, 30]\n",
      "b_list = [2, 4, 3]\n",
      "print(a_list + b_list)\n",
      "#print(a_list * b_list) wirft einen TypeError"
     ],
     "language": "python",
     "metadata": {},
     "outputs": [
      {
       "output_type": "stream",
       "stream": "stdout",
       "text": [
        "[10, 20, 30, 2, 4, 3]\n"
       ]
      }
     ],
     "prompt_number": 4
    },
    {
     "cell_type": "code",
     "collapsed": true,
     "input": [
      "sum_list = [x + y for x, y in zip(a_list, b_list)]\n",
      "print(sum_list)"
     ],
     "language": "python",
     "metadata": {},
     "outputs": [
      {
       "output_type": "stream",
       "stream": "stdout",
       "text": [
        "[12, 24, 33]\n"
       ]
      }
     ],
     "prompt_number": 5
    },
    {
     "cell_type": "markdown",
     "metadata": {},
     "source": [
      "ndarrays funktionieren anders"
     ]
    },
    {
     "cell_type": "code",
     "collapsed": false,
     "input": [
      "import numpy as np"
     ],
     "language": "python",
     "metadata": {},
     "outputs": [],
     "prompt_number": 2
    },
    {
     "cell_type": "code",
     "collapsed": true,
     "input": [
      "a = np.array(a_list)\n",
      "b = np.array(b_list)"
     ],
     "language": "python",
     "metadata": {},
     "outputs": [],
     "prompt_number": 7
    },
    {
     "cell_type": "code",
     "collapsed": true,
     "input": [
      "print(a + b)"
     ],
     "language": "python",
     "metadata": {},
     "outputs": [
      {
       "output_type": "stream",
       "stream": "stdout",
       "text": [
        "[12 24 33]\n"
       ]
      }
     ],
     "prompt_number": 8
    },
    {
     "cell_type": "code",
     "collapsed": true,
     "input": [
      "print(a * b)"
     ],
     "language": "python",
     "metadata": {},
     "outputs": [
      {
       "output_type": "stream",
       "stream": "stdout",
       "text": [
        "[20 80 90]\n"
       ]
      }
     ],
     "prompt_number": 9
    },
    {
     "cell_type": "code",
     "collapsed": true,
     "input": [
      "print(a / b)"
     ],
     "language": "python",
     "metadata": {},
     "outputs": [
      {
       "output_type": "stream",
       "stream": "stdout",
       "text": [
        "[  5.   5.  10.]\n"
       ]
      }
     ],
     "prompt_number": 10
    },
    {
     "cell_type": "markdown",
     "metadata": {},
     "source": [
      "###Berechne $f(x) = x^2 - 3 x +13$ f\u00fcr 10000 Werte"
     ]
    },
    {
     "cell_type": "markdown",
     "metadata": {},
     "source": [
      "#### klassisch"
     ]
    },
    {
     "cell_type": "code",
     "collapsed": true,
     "input": [
      "limit = 100000\n",
      "x = range(limit) # Python3: keine Liste, sondern ein range-Objekt\n",
      "\n",
      "def func(x):\n",
      "    return pow(x, 2) - 3*x + 13\n",
      "\n",
      "%timeit [func(n) for n in x]\n"
     ],
     "language": "python",
     "metadata": {},
     "outputs": [
      {
       "output_type": "stream",
       "stream": "stdout",
       "text": [
        "1 loops, best of 3: 1.48 s per loop\n"
       ]
      }
     ],
     "prompt_number": 11
    },
    {
     "cell_type": "code",
     "collapsed": false,
     "input": [
      "%timeit sum(x)\n",
      "y = [func(n) for n in x]\n",
      "%timeit sum(y)"
     ],
     "language": "python",
     "metadata": {},
     "outputs": [
      {
       "output_type": "stream",
       "stream": "stdout",
       "text": [
        "10 loops, best of 3: 49.3 ms per loop\n",
        "10 loops, best of 3: 69.5 ms per loop"
       ]
      },
      {
       "output_type": "stream",
       "stream": "stdout",
       "text": [
        "\n"
       ]
      }
     ],
     "prompt_number": 13
    },
    {
     "cell_type": "markdown",
     "metadata": {},
     "source": [
      "####mit NumPy"
     ]
    },
    {
     "cell_type": "code",
     "collapsed": false,
     "input": [
      "import numpy as np\n",
      "\n",
      "x = np.arange(limit) # generate \n",
      "y = func(x)\n",
      "\n",
      "%timeit y = func(x)"
     ],
     "language": "python",
     "metadata": {},
     "outputs": [
      {
       "output_type": "stream",
       "stream": "stdout",
       "text": [
        "10 loops, best of 3: 27.5 ms per loop\n"
       ]
      }
     ],
     "prompt_number": 14
    },
    {
     "cell_type": "code",
     "collapsed": false,
     "input": [
      "%timeit x.sum()\n",
      "%timeit y.sum()"
     ],
     "language": "python",
     "metadata": {},
     "outputs": [
      {
       "output_type": "stream",
       "stream": "stdout",
       "text": [
        "100 loops, best of 3: 2.15 ms per loop\n",
        "100 loops, best of 3: 2.15 ms per loop"
       ]
      },
      {
       "output_type": "stream",
       "stream": "stdout",
       "text": [
        "\n"
       ]
      }
     ],
     "prompt_number": 15
    },
    {
     "cell_type": "markdown",
     "metadata": {},
     "source": [
      "##&rarr; NumPy ist schnell!"
     ]
    },
    {
     "cell_type": "markdown",
     "metadata": {},
     "source": [
      "---"
     ]
    },
    {
     "cell_type": "markdown",
     "metadata": {},
     "source": [
      "##Universelle Funktionen (*Ufuncs*) wirken **ohne Schleifen** auf alle Elemente eines Arrays."
     ]
    },
    {
     "cell_type": "code",
     "collapsed": false,
     "input": [
      "zufall = np.random.randint(1000, 2000, 100)\n",
      "zufall.resize(10, 10)\n",
      "print(zufall)"
     ],
     "language": "python",
     "metadata": {},
     "outputs": [
      {
       "output_type": "stream",
       "stream": "stdout",
       "text": [
        "[[1898 1159 1769 1794 1668 1605 1109 1852 1753 1453]\n",
        " [1028 1374 1524 1487 1942 1146 1051 1708 1954 1371]\n",
        " [1837 1496 1878 1550 1521 1897 1952 1350 1529 1508]\n",
        " [1246 1295 1195 1080 1718 1168 1453 1770 1563 1793]\n",
        " [1918 1129 1294 1214 1057 1899 1985 1142 1950 1380]\n",
        " [1555 1989 1901 1256 1757 1265 1595 1629 1649 1518]\n",
        " [1084 1039 1180 1940 1960 1365 1847 1289 1526 1573]\n",
        " [1758 1489 1827 1664 1819 1395 1116 1688 1268 1440]\n",
        " [1442 1721 1455 1359 1029 1432 1814 1535 1311 1259]\n",
        " [1192 1885 1002 1355 1420 1071 1036 1306 1738 1491]]\n"
       ]
      }
     ],
     "prompt_number": 3
    },
    {
     "cell_type": "code",
     "collapsed": false,
     "input": [
      "print('Minimum: {}'.format(zufall.min()))\n",
      "print('Maximum: {}'.format(zufall.max()))\n",
      "print('Summe: {}'.format(zufall.sum()))"
     ],
     "language": "python",
     "metadata": {},
     "outputs": []
    },
    {
     "cell_type": "markdown",
     "metadata": {},
     "source": [
      "Minimima und Maxima lassen sich auch spalten- und zeilenweise berechnen "
     ]
    },
    {
     "cell_type": "code",
     "collapsed": true,
     "input": [
      "zufall.min(axis=0)"
     ],
     "language": "python",
     "metadata": {},
     "outputs": [
      {
       "metadata": {},
       "output_type": "pyout",
       "prompt_number": 5,
       "text": [
        "array([1028, 1039, 1002, 1080, 1029, 1071, 1036, 1142, 1268, 1259])"
       ]
      }
     ],
     "prompt_number": 5
    },
    {
     "cell_type": "code",
     "collapsed": true,
     "input": [
      "zufall.max(axis=1)"
     ],
     "language": "python",
     "metadata": {},
     "outputs": [
      {
       "metadata": {},
       "output_type": "pyout",
       "prompt_number": 10,
       "text": [
        "array([1898, 1954, 1952, 1793, 1985, 1989, 1960, 1827, 1814, 1885])"
       ]
      }
     ],
     "prompt_number": 10
    }
   ],
   "metadata": {}
  }
 ]
}