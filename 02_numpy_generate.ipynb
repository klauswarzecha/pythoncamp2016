{
 "metadata": {
  "name": "",
  "signature": "sha256:b05f2f5b93842512cf8c5b65341cb40269d3df0151c340c2598a35ac3743aa12"
 },
 "nbformat": 3,
 "nbformat_minor": 0,
 "worksheets": [
  {
   "cells": [
    {
     "cell_type": "markdown",
     "metadata": {},
     "source": [
      "Klaus-Dieter Warzecha \n",
      "## 02. Erzeugen von NumPy Arrays"
     ]
    },
    {
     "cell_type": "code",
     "collapsed": false,
     "input": [
      "import numpy as np"
     ],
     "language": "python",
     "metadata": {},
     "outputs": [],
     "prompt_number": 2
    },
    {
     "cell_type": "markdown",
     "metadata": {},
     "source": [
      "###aus Listen und Tupeln"
     ]
    },
    {
     "cell_type": "code",
     "collapsed": true,
     "input": [
      "alist = [[1, 2, -100],\n",
      "         [123.34, 12, -23]]            \n",
      "a = np.array(alist)\n",
      "print(a)"
     ],
     "language": "python",
     "metadata": {},
     "outputs": [
      {
       "output_type": "stream",
       "stream": "stdout",
       "text": [
        "[[   1.      2.   -100.  ]\n",
        " [ 123.34   12.    -23.  ]]\n"
       ]
      }
     ],
     "prompt_number": 11
    },
    {
     "cell_type": "markdown",
     "metadata": {},
     "source": [
      "###als leeres, nicht initialisiertes Array"
     ]
    },
    {
     "cell_type": "code",
     "collapsed": true,
     "input": [
      "leer = np.empty((5,4))\n",
      "print(leer)"
     ],
     "language": "python",
     "metadata": {},
     "outputs": [
      {
       "output_type": "stream",
       "stream": "stdout",
       "text": [
        "[[ -2.10799960e-044   6.36619377e-314  -1.00072331e-070   4.07111677e+058]\n",
        " [  0.00000000e+000   1.04059806e-314  -2.19628714e+187   0.00000000e+000]\n",
        " [  8.38723257e-315   1.37365822e-278   0.00000000e+000   0.00000000e+000]\n",
        " [ -4.71971377e-287  -1.37197124e-070   3.58617289e-312  -2.10769949e-044]\n",
        " [  1.06101854e-313   0.00000000e+000  -3.73068945e+003   0.00000000e+000]]\n"
       ]
      }
     ],
     "prompt_number": 12
    },
    {
     "cell_type": "markdown",
     "metadata": {},
     "source": [
      "###als Array von Einsen"
     ]
    },
    {
     "cell_type": "code",
     "collapsed": true,
     "input": [
      "einsen = np.ones((2,3, 8))\n",
      "print(einsen)"
     ],
     "language": "python",
     "metadata": {},
     "outputs": [
      {
       "output_type": "stream",
       "stream": "stdout",
       "text": [
        "[[[ 1.  1.  1.  1.  1.  1.  1.  1.]\n",
        "  [ 1.  1.  1.  1.  1.  1.  1.  1.]\n",
        "  [ 1.  1.  1.  1.  1.  1.  1.  1.]]\n",
        "\n",
        " [[ 1.  1.  1.  1.  1.  1.  1.  1.]\n",
        "  [ 1.  1.  1.  1.  1.  1.  1.  1.]\n",
        "  [ 1.  1.  1.  1.  1.  1.  1.  1.]]]\n"
       ]
      }
     ],
     "prompt_number": 13
    },
    {
     "cell_type": "markdown",
     "metadata": {},
     "source": [
      "###als Array von Nullen"
     ]
    },
    {
     "cell_type": "code",
     "collapsed": true,
     "input": [
      "nullen = np.zeros(3)\n",
      "print(nullen)"
     ],
     "language": "python",
     "metadata": {},
     "outputs": [
      {
       "output_type": "stream",
       "stream": "stdout",
       "text": [
        "[ 0.  0.  0.]\n"
       ]
      }
     ],
     "prompt_number": 3
    },
    {
     "cell_type": "markdown",
     "metadata": {},
     "source": [
      "###als Array von beliebigen (gleichen) Werten"
     ]
    },
    {
     "cell_type": "code",
     "collapsed": true,
     "input": [
      "dingens = np.full((3,5), np.pi)\n",
      "print(dingens)"
     ],
     "language": "python",
     "metadata": {},
     "outputs": [
      {
       "output_type": "stream",
       "stream": "stdout",
       "text": [
        "[[ 3.14159265  3.14159265  3.14159265  3.14159265  3.14159265]\n",
        " [ 3.14159265  3.14159265  3.14159265  3.14159265  3.14159265]\n",
        " [ 3.14159265  3.14159265  3.14159265  3.14159265  3.14159265]]\n"
       ]
      }
     ],
     "prompt_number": 4
    },
    {
     "cell_type": "markdown",
     "metadata": {},
     "source": [
      "###aus Bereich mit Schrittweite (*numpy.arange*)"
     ]
    },
    {
     "cell_type": "code",
     "collapsed": true,
     "input": [
      "four_to_five = np.arange(4.0, 5.0, 0.01)\n",
      "print(four_to_five)"
     ],
     "language": "python",
     "metadata": {},
     "outputs": [
      {
       "output_type": "stream",
       "stream": "stdout",
       "text": [
        "[ 4.    4.01  4.02  4.03  4.04  4.05  4.06  4.07  4.08  4.09  4.1   4.11\n",
        "  4.12  4.13  4.14  4.15  4.16  4.17  4.18  4.19  4.2   4.21  4.22  4.23\n",
        "  4.24  4.25  4.26  4.27  4.28  4.29  4.3   4.31  4.32  4.33  4.34  4.35\n",
        "  4.36  4.37  4.38  4.39  4.4   4.41  4.42  4.43  4.44  4.45  4.46  4.47\n",
        "  4.48  4.49  4.5   4.51  4.52  4.53  4.54  4.55  4.56  4.57  4.58  4.59\n",
        "  4.6   4.61  4.62  4.63  4.64  4.65  4.66  4.67  4.68  4.69  4.7   4.71\n",
        "  4.72  4.73  4.74  4.75  4.76  4.77  4.78  4.79  4.8   4.81  4.82  4.83\n",
        "  4.84  4.85  4.86  4.87  4.88  4.89  4.9   4.91  4.92  4.93  4.94  4.95\n",
        "  4.96  4.97  4.98  4.99]\n"
       ]
      }
     ],
     "prompt_number": 5
    },
    {
     "cell_type": "markdown",
     "metadata": {},
     "source": [
      "###aus Bereich mit Anzahl der Elemente (*numpy.linspace*)"
     ]
    },
    {
     "cell_type": "code",
     "collapsed": true,
     "input": [
      "twentysix = np.linspace(100, 200, 26)\n",
      "print(twentysix)"
     ],
     "language": "python",
     "metadata": {},
     "outputs": [
      {
       "output_type": "stream",
       "stream": "stdout",
       "text": [
        "[ 100.  104.  108.  112.  116.  120.  124.  128.  132.  136.  140.  144.\n",
        "  148.  152.  156.  160.  164.  168.  172.  176.  180.  184.  188.  192.\n",
        "  196.  200.]\n"
       ]
      }
     ],
     "prompt_number": 6
    },
    {
     "cell_type": "code",
     "collapsed": true,
     "input": [
      "twentysix.size"
     ],
     "language": "python",
     "metadata": {},
     "outputs": [
      {
       "metadata": {},
       "output_type": "pyout",
       "prompt_number": 7,
       "text": [
        "26"
       ]
      }
     ],
     "prompt_number": 7
    },
    {
     "cell_type": "markdown",
     "metadata": {},
     "source": [
      "##durch Einlesen aus Dateien"
     ]
    },
    {
     "cell_type": "markdown",
     "metadata": {},
     "source": [
      "###f\u00fcr \"saubere\" Daten: *np.loadtxt*"
     ]
    },
    {
     "cell_type": "code",
     "collapsed": false,
     "input": [
      "# Fluoreszenzspektrum von Fluorescein in alkalischem Ethanol\n",
      "# Data from http://omlc.org/spectra/PhotochemCAD/index.html\n",
      "fluorescence = np.loadtxt('037-ems.txt')"
     ],
     "language": "python",
     "metadata": {},
     "outputs": []
    },
    {
     "cell_type": "code",
     "collapsed": true,
     "input": [
      "fluorescence[:5]"
     ],
     "language": "python",
     "metadata": {},
     "outputs": [
      {
       "metadata": {},
       "output_type": "pyout",
       "prompt_number": 7,
       "text": [
        "array([[ 480. ,  148. ],\n",
        "       [ 480.5,  149. ],\n",
        "       [ 481. ,  155. ],\n",
        "       [ 481.5,  140. ],\n",
        "       [ 482. ,  148. ]])"
       ]
      }
     ],
     "prompt_number": 7
    },
    {
     "cell_type": "markdown",
     "metadata": {},
     "source": [
      "###bei fehlenden Daten: *np.genfromtxt*"
     ]
    },
    {
     "cell_type": "code",
     "collapsed": true,
     "input": [
      "rotten = np.genfromtxt('dirty.data', delimiter= ',')\n",
      "rotten"
     ],
     "language": "python",
     "metadata": {},
     "outputs": [
      {
       "metadata": {},
       "output_type": "pyout",
       "prompt_number": 4,
       "text": [
        "array([[ 100.  ,   23.  ,  127.3 ],\n",
        "       [ 101.  ,     nan,  128.  ],\n",
        "       [ 102.  ,   25.99,  131.4 ],\n",
        "       [ 103.  ,   28.78,  129.5 ]])"
       ]
      }
     ],
     "prompt_number": 4
    },
    {
     "cell_type": "markdown",
     "metadata": {},
     "source": [
      "# Wer Lesen kann, mu\u00df auch Schreiben k\u00f6nnen"
     ]
    },
    {
     "cell_type": "code",
     "collapsed": false,
     "input": [
      "np.savetxt('rotten.tsv', rotten, delimiter='\\t', header='Missing data!', footer='Oh! Crap!')"
     ],
     "language": "python",
     "metadata": {},
     "outputs": [],
     "prompt_number": 5
    },
    {
     "cell_type": "code",
     "collapsed": false,
     "input": [
      "totally_rotten = np.genfromtxt('rotten.tsv', delimiter= '\\t')\n",
      "totally_rotten"
     ],
     "language": "python",
     "metadata": {},
     "outputs": [
      {
       "metadata": {},
       "output_type": "pyout",
       "prompt_number": 25,
       "text": [
        "array([[ 100.  ,   23.  ,  127.3 ],\n",
        "       [ 101.  ,     nan,  128.  ],\n",
        "       [ 102.  ,   25.99,  131.4 ],\n",
        "       [ 103.  ,   28.78,  129.5 ]])"
       ]
      }
     ],
     "prompt_number": 25
    }
   ],
   "metadata": {}
  }
 ]
}